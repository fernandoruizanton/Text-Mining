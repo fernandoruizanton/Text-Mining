{
 "cells": [
  {
   "cell_type": "code",
   "execution_count": 74,
   "metadata": {},
   "outputs": [],
   "source": [
    "import bs4\n",
    "import urllib\n",
    "import pandas as pd\n",
    "import itertools\n",
    "import requests\n",
    "import numpy as np"
   ]
  },
  {
   "cell_type": "code",
   "execution_count": 2,
   "metadata": {},
   "outputs": [],
   "source": [
    "urll = 'https://www.monsterindia.com/data-science-jobs.html'\n",
    "page = urllib.request.urlopen(urll).read()\n",
    "soup = bs4.BeautifulSoup(page,'html.parser')"
   ]
  },
  {
   "cell_type": "code",
   "execution_count": 29,
   "metadata": {},
   "outputs": [],
   "source": [
    "all_jobs = soup.findAll('div',{'class':'jobwrap','type':'tuple'})"
   ]
  },
  {
   "cell_type": "code",
   "execution_count": 77,
   "metadata": {},
   "outputs": [
    {
     "name": "stdout",
     "output_type": "stream",
     "text": [
      "https://www.monsterindia.com/data-science-jobs-1.html\n",
      "https://www.monsterindia.com/data-science-jobs-2.html\n",
      "https://www.monsterindia.com/data-science-jobs-3.html\n",
      "https://www.monsterindia.com/data-science-jobs-4.html\n",
      "https://www.monsterindia.com/data-science-jobs-5.html\n"
     ]
    }
   ],
   "source": [
    "def parse_url(url):\n",
    "    page = requests.get(url).text\n",
    "    bs = bs4.BeautifulSoup(page,'html.parser')\n",
    "    return (bs)\n",
    "\n",
    "def get_parents(bs):\n",
    "    return(bs.findAll('div',{'class':'jobwrap','type':'tuple'}))\n",
    "\n",
    "def get_attributes(urll):\n",
    "    title = job.find('span',{'class':'title_in'}).text\n",
    "    company = job.find('a',{'class':'jtxt orange'}).get('title')\n",
    "    location = job.find('div',{'class':'jtxt jico ico1'}).text\n",
    "    exp = job.find('div',{'class': 'jtxt jico ico2'}).text\n",
    "    posted_on = job.find('div',{'class': 'job_optitem ico7'}).text.split(':')[1]\n",
    "    skills = job.find('div', {'class': 'joblnk serachjoblnk'}).findAll('div')[4].get('title')\n",
    "    curr_job = {    'Title':title, \n",
    "                    'Company':company,\n",
    "                    'Location':location,\n",
    "                    'Experience': exp,\n",
    "                    'Posted_On':posted_on,\n",
    "                    'KeySkills': skills\n",
    "                   }\n",
    "    return(curr_job)\n",
    "\n",
    "jobs_df = pd.DataFrame(columns=['Title','Company','Location','Experience','Posted_On','KeySkills'])\n",
    "\n",
    "for i in range(1,6):\n",
    "    url = 'https://www.monsterindia.com/data-science-jobs-%d.html'%i\n",
    "    print(url)\n",
    "    bs = parse_url(url)\n",
    "    parents = get_parents(bs)\n",
    "    for job in parents:\n",
    "        try:\n",
    "            jobs_df = jobs_df.append(get_attributes(job), ignore_index=True)\n",
    "        except:\n",
    "            pass"
   ]
  },
  {
   "cell_type": "code",
   "execution_count": null,
   "metadata": {},
   "outputs": [],
   "source": []
  },
  {
   "cell_type": "code",
   "execution_count": null,
   "metadata": {},
   "outputs": [],
   "source": []
  }
 ],
 "metadata": {
  "kernelspec": {
   "display_name": "Python 3",
   "language": "python",
   "name": "python3"
  },
  "language_info": {
   "codemirror_mode": {
    "name": "ipython",
    "version": 3
   },
   "file_extension": ".py",
   "mimetype": "text/x-python",
   "name": "python",
   "nbconvert_exporter": "python",
   "pygments_lexer": "ipython3",
   "version": "3.6.6"
  }
 },
 "nbformat": 4,
 "nbformat_minor": 2
}
