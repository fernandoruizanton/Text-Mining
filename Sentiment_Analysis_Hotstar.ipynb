{
 "cells": [
  {
   "cell_type": "code",
   "execution_count": 60,
   "metadata": {},
   "outputs": [],
   "source": [
    "import pandas as pd\n",
    "import nltk\n",
    "import numpy as np\n",
    "from sklearn.feature_extraction.text import CountVectorizer\n",
    "from sklearn.model_selection import train_test_split\n",
    "import tweepy"
   ]
  },
  {
   "cell_type": "markdown",
   "metadata": {},
   "source": [
    "# Sentiment Analysis\n",
    " - Unsupervised\n",
    " - Supervised"
   ]
  },
  {
   "cell_type": "markdown",
   "metadata": {},
   "source": [
    " "
   ]
  },
  {
   "cell_type": "markdown",
   "metadata": {},
   "source": [
    " "
   ]
  },
  {
   "cell_type": "code",
   "execution_count": 37,
   "metadata": {},
   "outputs": [
    {
     "data": {
      "text/html": [
       "<div>\n",
       "<style scoped>\n",
       "    .dataframe tbody tr th:only-of-type {\n",
       "        vertical-align: middle;\n",
       "    }\n",
       "\n",
       "    .dataframe tbody tr th {\n",
       "        vertical-align: top;\n",
       "    }\n",
       "\n",
       "    .dataframe thead th {\n",
       "        text-align: right;\n",
       "    }\n",
       "</style>\n",
       "<table border=\"1\" class=\"dataframe\">\n",
       "  <thead>\n",
       "    <tr style=\"text-align: right;\">\n",
       "      <th></th>\n",
       "      <th>ID</th>\n",
       "      <th>UserName</th>\n",
       "      <th>Created_Date</th>\n",
       "      <th>Reviews</th>\n",
       "      <th>Lower_Case_Reviews</th>\n",
       "      <th>Sentiment_Manual_BP</th>\n",
       "      <th>Sentiment_Manual</th>\n",
       "      <th>Review_Length</th>\n",
       "      <th>DataSource</th>\n",
       "      <th>Year</th>\n",
       "      <th>Month</th>\n",
       "      <th>Date</th>\n",
       "      <th>Sentiment_Polarity</th>\n",
       "    </tr>\n",
       "  </thead>\n",
       "  <tbody>\n",
       "    <tr>\n",
       "      <th>0</th>\n",
       "      <td>1</td>\n",
       "      <td>NaN</td>\n",
       "      <td>8/10/2017</td>\n",
       "      <td>Hh</td>\n",
       "      <td>hh</td>\n",
       "      <td>Negative</td>\n",
       "      <td>Negative</td>\n",
       "      <td>2</td>\n",
       "      <td>Google_PlayStore</td>\n",
       "      <td>2017</td>\n",
       "      <td>8</td>\n",
       "      <td>10</td>\n",
       "      <td>Neutral</td>\n",
       "    </tr>\n",
       "    <tr>\n",
       "      <th>1</th>\n",
       "      <td>2</td>\n",
       "      <td>NaN</td>\n",
       "      <td>8/11/2017</td>\n",
       "      <td>No</td>\n",
       "      <td>no</td>\n",
       "      <td>Negative</td>\n",
       "      <td>Negative</td>\n",
       "      <td>2</td>\n",
       "      <td>Google_PlayStore</td>\n",
       "      <td>2017</td>\n",
       "      <td>8</td>\n",
       "      <td>11</td>\n",
       "      <td>Neutral</td>\n",
       "    </tr>\n",
       "    <tr>\n",
       "      <th>2</th>\n",
       "      <td>3</td>\n",
       "      <td>asadynwa</td>\n",
       "      <td>8/12/2017</td>\n",
       "      <td>@hotstar_helps during paymnt for premium subsc...</td>\n",
       "      <td>@hotstar_helps during paymnt for premium subsc...</td>\n",
       "      <td>Help</td>\n",
       "      <td>Negative</td>\n",
       "      <td>140</td>\n",
       "      <td>Twitter</td>\n",
       "      <td>2017</td>\n",
       "      <td>8</td>\n",
       "      <td>12</td>\n",
       "      <td>Negative</td>\n",
       "    </tr>\n",
       "    <tr>\n",
       "      <th>3</th>\n",
       "      <td>4</td>\n",
       "      <td>jineshroxx</td>\n",
       "      <td>8/11/2017</td>\n",
       "      <td>@hotstartweets I am currently on Jio network a...</td>\n",
       "      <td>@hotstartweets i am currently on jio network a...</td>\n",
       "      <td>Help</td>\n",
       "      <td>Negative</td>\n",
       "      <td>140</td>\n",
       "      <td>Twitter</td>\n",
       "      <td>2017</td>\n",
       "      <td>8</td>\n",
       "      <td>11</td>\n",
       "      <td>Positive</td>\n",
       "    </tr>\n",
       "    <tr>\n",
       "      <th>4</th>\n",
       "      <td>5</td>\n",
       "      <td>YaminiSachar</td>\n",
       "      <td>8/5/2017</td>\n",
       "      <td>@hotstartweets the episodes of Sarabhai vs Sar...</td>\n",
       "      <td>@hotstartweets the episodes of sarabhai vs sar...</td>\n",
       "      <td>Help</td>\n",
       "      <td>Negative</td>\n",
       "      <td>140</td>\n",
       "      <td>Twitter</td>\n",
       "      <td>2017</td>\n",
       "      <td>8</td>\n",
       "      <td>5</td>\n",
       "      <td>Neutral</td>\n",
       "    </tr>\n",
       "  </tbody>\n",
       "</table>\n",
       "</div>"
      ],
      "text/plain": [
       "   ID      UserName Created_Date  \\\n",
       "0   1           NaN    8/10/2017   \n",
       "1   2           NaN    8/11/2017   \n",
       "2   3      asadynwa    8/12/2017   \n",
       "3   4    jineshroxx    8/11/2017   \n",
       "4   5  YaminiSachar     8/5/2017   \n",
       "\n",
       "                                             Reviews  \\\n",
       "0                                                 Hh   \n",
       "1                                                 No   \n",
       "2  @hotstar_helps during paymnt for premium subsc...   \n",
       "3  @hotstartweets I am currently on Jio network a...   \n",
       "4  @hotstartweets the episodes of Sarabhai vs Sar...   \n",
       "\n",
       "                                  Lower_Case_Reviews Sentiment_Manual_BP  \\\n",
       "0                                                 hh            Negative   \n",
       "1                                                 no            Negative   \n",
       "2  @hotstar_helps during paymnt for premium subsc...                Help   \n",
       "3  @hotstartweets i am currently on jio network a...                Help   \n",
       "4  @hotstartweets the episodes of sarabhai vs sar...                Help   \n",
       "\n",
       "  Sentiment_Manual  Review_Length        DataSource  Year  Month  Date  \\\n",
       "0         Negative              2  Google_PlayStore  2017      8    10   \n",
       "1         Negative              2  Google_PlayStore  2017      8    11   \n",
       "2         Negative            140           Twitter  2017      8    12   \n",
       "3         Negative            140           Twitter  2017      8    11   \n",
       "4         Negative            140           Twitter  2017      8     5   \n",
       "\n",
       "  Sentiment_Polarity  \n",
       "0            Neutral  \n",
       "1            Neutral  \n",
       "2           Negative  \n",
       "3           Positive  \n",
       "4            Neutral  "
      ]
     },
     "execution_count": 37,
     "metadata": {},
     "output_type": "execute_result"
    }
   ],
   "source": [
    "hotstar_data = pd.read_csv('hotstar.allreviews_Sentiments.csv')\n",
    "hotstar_data.head(5)"
   ]
  },
  {
   "cell_type": "code",
   "execution_count": 8,
   "metadata": {},
   "outputs": [
    {
     "data": {
      "text/plain": [
       "(5053, 13)"
      ]
     },
     "execution_count": 8,
     "metadata": {},
     "output_type": "execute_result"
    }
   ],
   "source": [
    "hotstar_data.shape"
   ]
  },
  {
   "cell_type": "code",
   "execution_count": 38,
   "metadata": {},
   "outputs": [
    {
     "data": {
      "text/plain": [
       "Neutral     1738\n",
       "Positive    1733\n",
       "Negative    1582\n",
       "Name: Sentiment_Manual, dtype: int64"
      ]
     },
     "execution_count": 38,
     "metadata": {},
     "output_type": "execute_result"
    }
   ],
   "source": [
    "hotstar_data['Sentiment_Manual'].value_counts()"
   ]
  },
  {
   "cell_type": "code",
   "execution_count": 10,
   "metadata": {},
   "outputs": [],
   "source": [
    "from nltk.sentiment.vader import SentimentIntensityAnalyzer"
   ]
  },
  {
   "cell_type": "markdown",
   "metadata": {},
   "source": [
    "**Sentiment Polarity** - given a sentence , looks up with a list of positive and negative words.<br>\n",
    "    - Case 1:\n",
    "         - +ve polarity > 1\n",
    "         - -ve polarity < 1\n",
    "         - Neutral      = 0\n",
    "         \n",
    "    - Case 2:\n",
    "         - very positive   > 10\n",
    "         - positive        5 - 10 , similarly for negative\n",
    "         \n",
    "Vader also checks for the intensity of the word, emoticons etc.,  **vader_lexicon.txt** <br>\n",
    "\n",
    "While using Vader, do not clean , do not remove stop words"
   ]
  },
  {
   "cell_type": "code",
   "execution_count": 12,
   "metadata": {},
   "outputs": [],
   "source": [
    "senti = SentimentIntensityAnalyzer()"
   ]
  },
  {
   "cell_type": "markdown",
   "metadata": {},
   "source": [
    " "
   ]
  },
  {
   "cell_type": "markdown",
   "metadata": {},
   "source": [
    "Compound is the overall sentiment for the sentence , ranges between -1 to +1"
   ]
  },
  {
   "cell_type": "code",
   "execution_count": 35,
   "metadata": {},
   "outputs": [
    {
     "data": {
      "text/plain": [
       "{'neg': 0.0, 'neu': 1.0, 'pos': 0.0, 'compound': 0.0}"
      ]
     },
     "execution_count": 35,
     "metadata": {},
     "output_type": "execute_result"
    }
   ],
   "source": [
    "senti.polarity_scores('i studied at xyz')"
   ]
  },
  {
   "cell_type": "code",
   "execution_count": 39,
   "metadata": {},
   "outputs": [],
   "source": [
    "hotstar_data['sentiment_vader'] = hotstar_data['Reviews'].apply( lambda x:\n",
    "                                                                          senti.polarity_scores(x)['compound'] )"
   ]
  },
  {
   "cell_type": "code",
   "execution_count": 40,
   "metadata": {},
   "outputs": [
    {
     "data": {
      "text/plain": [
       "<matplotlib.axes._subplots.AxesSubplot at 0x1375b7768d0>"
      ]
     },
     "execution_count": 40,
     "metadata": {},
     "output_type": "execute_result"
    },
    {
     "data": {
      "image/png": "[encoded data removed]",
      "text/plain": [
       "<Figure size 432x288 with 1 Axes>"
      ]
     },
     "metadata": {
      "needs_background": "light"
     },
     "output_type": "display_data"
    }
   ],
   "source": [
    "hotstar_data['sentiment_vader'].plot.density()"
   ]
  },
  {
   "cell_type": "markdown",
   "metadata": {},
   "source": [
    "Most of the predictions are around 0"
   ]
  },
  {
   "cell_type": "code",
   "execution_count": 41,
   "metadata": {},
   "outputs": [
    {
     "data": {
      "text/plain": [
       "Neutral     2149\n",
       "Positive    2137\n",
       "Negative     767\n",
       "Name: sentiment_vader_cat, dtype: int64"
      ]
     },
     "execution_count": 41,
     "metadata": {},
     "output_type": "execute_result"
    }
   ],
   "source": [
    "def assign_sentiment(x):\n",
    "    if x > 0.25:\n",
    "        return('Positive')\n",
    "    elif x < -0.25:\n",
    "        return('Negative')\n",
    "    else:\n",
    "        return('Neutral')\n",
    "hotstar_data['sentiment_vader_cat'] = hotstar_data['sentiment_vader'].apply(assign_sentiment)\n",
    "hotstar_data['sentiment_vader_cat'].value_counts()"
   ]
  },
  {
   "cell_type": "markdown",
   "metadata": {},
   "source": [
    "******"
   ]
  },
  {
   "cell_type": "markdown",
   "metadata": {},
   "source": [
    "# Supervised Models <br>\n",
    "    - Random Forest - input should be categorical or numeric"
   ]
  },
  {
   "cell_type": "code",
   "execution_count": 47,
   "metadata": {},
   "outputs": [],
   "source": [
    "stemmer = nltk.stem.PorterStemmer() "
   ]
  },
  {
   "cell_type": "code",
   "execution_count": 45,
   "metadata": {},
   "outputs": [
    {
     "data": {
      "text/plain": [
       "179"
      ]
     },
     "execution_count": 45,
     "metadata": {},
     "output_type": "execute_result"
    }
   ],
   "source": [
    "custom_stop_words = []\n",
    "common_stop_words = nltk.corpus.stopwords.words('english')\n",
    "all_stop_words = np.hstack([custom_stop_words,common_stop_words])\n",
    "len(all_stop_words)"
   ]
  },
  {
   "cell_type": "code",
   "execution_count": 49,
   "metadata": {},
   "outputs": [
    {
     "data": {
      "text/plain": [
       "(5053, 6152)"
      ]
     },
     "execution_count": 49,
     "metadata": {},
     "output_type": "execute_result"
    }
   ],
   "source": [
    "all_reviews = hotstar_data['Reviews']\n",
    "all_reviews = all_reviews.str.lower()\n",
    "all_reviews = all_reviews.str.replace('[^a-z#@ ]','')\n",
    "all_reviews = all_reviews.str.split(' ')\n",
    "words_rows = all_reviews.tolist()\n",
    "words_all = [] # huge list - 59k [] \n",
    "docs_clean = [] # stemmed and cleaned sentences joined with space.\n",
    "words_rows_clean = [] # list of lists [ [],[],[] ... ] \n",
    "\n",
    "for row in words_rows:\n",
    "    row_words = [stemmer.stem(word) for word in row if word not in all_stop_words]    # stemmed\n",
    "    words_rows_clean.append(row_words) # clean words \n",
    "    docs_clean.append(' '.join(row_words))    \n",
    "    words_all.extend(row_words)\n",
    "\n",
    "\n",
    "model = CountVectorizer()\n",
    "sparse_matrix = model.fit_transform(docs_clean)\n",
    "dtm = pd.DataFrame(sparse_matrix.toarray(),\n",
    "                   columns = model.get_feature_names())\n",
    "dtm.shape"
   ]
  },
  {
   "cell_type": "markdown",
   "metadata": {},
   "source": [
    "**Train Test Split**"
   ]
  },
  {
   "cell_type": "code",
   "execution_count": 51,
   "metadata": {},
   "outputs": [],
   "source": [
    "X_train,X_test,y_train,y_test = train_test_split(dtm,hotstar_data['Sentiment_Manual'],test_size = 0.2, random_state=0)"
   ]
  },
  {
   "cell_type": "code",
   "execution_count": 54,
   "metadata": {},
   "outputs": [
    {
     "data": {
      "text/plain": [
       "Neutral     34.520277\n",
       "Positive    34.520277\n",
       "Negative    30.959446\n",
       "Name: Sentiment_Manual, dtype: float64"
      ]
     },
     "execution_count": 54,
     "metadata": {},
     "output_type": "execute_result"
    }
   ],
   "source": [
    "y_test.value_counts() / y_test.shape[0] * 100"
   ]
  },
  {
   "cell_type": "markdown",
   "metadata": {},
   "source": [
    "**Train the model**"
   ]
  },
  {
   "cell_type": "code",
   "execution_count": 55,
   "metadata": {},
   "outputs": [
    {
     "name": "stderr",
     "output_type": "stream",
     "text": [
      "C:\\Users\\Goutham\\Anaconda3\\lib\\site-packages\\sklearn\\ensemble\\forest.py:248: FutureWarning: The default value of n_estimators will change from 10 in version 0.20 to 100 in 0.22.\n",
      "  \"10 in version 0.20 to 100 in 0.22.\", FutureWarning)\n"
     ]
    },
    {
     "data": {
      "text/plain": [
       "RandomForestClassifier(bootstrap=True, class_weight=None, criterion='gini',\n",
       "            max_depth=None, max_features='auto', max_leaf_nodes=None,\n",
       "            min_impurity_decrease=0.0, min_impurity_split=None,\n",
       "            min_samples_leaf=1, min_samples_split=2,\n",
       "            min_weight_fraction_leaf=0.0, n_estimators=10, n_jobs=None,\n",
       "            oob_score=False, random_state=None, verbose=0,\n",
       "            warm_start=False)"
      ]
     },
     "execution_count": 55,
     "metadata": {},
     "output_type": "execute_result"
    }
   ],
   "source": [
    "from sklearn.ensemble import RandomForestClassifier\n",
    "rf = RandomForestClassifier()\n",
    "rf.fit(X_train,y_train)"
   ]
  },
  {
   "cell_type": "code",
   "execution_count": 56,
   "metadata": {},
   "outputs": [],
   "source": [
    "preds = rf.predict(X_test)"
   ]
  },
  {
   "cell_type": "markdown",
   "metadata": {},
   "source": [
    "**Evaluate model**"
   ]
  },
  {
   "cell_type": "code",
   "execution_count": 58,
   "metadata": {},
   "outputs": [
    {
     "data": {
      "text/plain": [
       "74.1839762611276"
      ]
     },
     "execution_count": 58,
     "metadata": {},
     "output_type": "execute_result"
    }
   ],
   "source": [
    "(y_test == preds).sum() / y_test.shape[0] * 100"
   ]
  },
  {
   "cell_type": "markdown",
   "metadata": {},
   "source": [
    "****"
   ]
  },
  {
   "cell_type": "markdown",
   "metadata": {},
   "source": [
    "**Predict for new tweets**"
   ]
  },
  {
   "cell_type": "code",
   "execution_count": 61,
   "metadata": {},
   "outputs": [],
   "source": [
    "api_key = 'QSV92u3PlXAUyzCBUfVwwLccp'\n",
    "api_secret = 'vxQT5rKUmpycC52eFwitpIh2Ij2hjuw8ZxhnlsbCYhEVv7zqIh'\n",
    "access_token = '1059829816306921472-ADVpqol7U3AkaJKHVt5bH2VqMnBAQK'\n",
    "access_token_secret = 'fRfkm7u2uzXvSjPZsuseXGj7nJYgjl5eOROnmWZqOOJVE'\n",
    "api = tweepy.OAuthHandler(api_key,api_secret)\n",
    "api.set_access_token(access_token,access_token_secret)\n",
    "api_auth = tweepy.API(api)"
   ]
  },
  {
   "cell_type": "code",
   "execution_count": 62,
   "metadata": {},
   "outputs": [],
   "source": [
    "hotstar_tweets = api_auth.search('#hotstar',count=500)\n",
    "hotstar_df = pd.DataFrame(columns = ['text','created_at','name'])\n",
    "for tweet in hotstar_tweets:\n",
    "    curr_row = {'text':tweet.text,\n",
    "                'created_at':tweet.created_at,\n",
    "                'name':tweet.user.name}\n",
    "    hotstar_df = hotstar_df.append(curr_row,ignore_index=True)"
   ]
  },
  {
   "cell_type": "code",
   "execution_count": 63,
   "metadata": {},
   "outputs": [
    {
     "data": {
      "text/plain": [
       "(100, 3)"
      ]
     },
     "execution_count": 63,
     "metadata": {},
     "output_type": "execute_result"
    }
   ],
   "source": [
    "hotstar_df.shape"
   ]
  },
  {
   "cell_type": "code",
   "execution_count": 64,
   "metadata": {},
   "outputs": [],
   "source": [
    "hotstar_df.to_csv('hotstar_tweets.csv',index=False)"
   ]
  },
  {
   "cell_type": "markdown",
   "metadata": {},
   "source": [
    "**Sentiment for new tweets** - use the vocabulary from the previously trained model. Any new word will not appear in the list of features"
   ]
  },
  {
   "cell_type": "markdown",
   "metadata": {},
   "source": [
    " "
   ]
  },
  {
   "cell_type": "code",
   "execution_count": 68,
   "metadata": {},
   "outputs": [],
   "source": [
    "docs = hotstar_df['text']\n",
    "docs = docs.str.lower()\n",
    "docs = docs.str.replace('[^a-z#@ ]','')\n",
    "docs = docs.str.split(' ')\n",
    "words_rows = docs.tolist()\n",
    "docs_clean_new = [] # stemmed and cleaned sentences joined with space.\n",
    "\n",
    "for row in words_rows:\n",
    "    row_words = [stemmer.stem(word) for word in row if word not in all_stop_words]    # stemmed\n",
    "    docs_clean_new.append(' '.join(row_words))    \n",
    "\n",
    "model_new = CountVectorizer(vocabulary=model.vocabulary_)\n",
    "\n",
    "dtm_new = pd.DataFrame(model_new.fit_transform(docs_clean_new).toarray(),\n",
    "                      columns = model.get_feature_names())"
   ]
  },
  {
   "cell_type": "code",
   "execution_count": 69,
   "metadata": {},
   "outputs": [
    {
     "data": {
      "text/plain": [
       "(100, 6152)"
      ]
     },
     "execution_count": 69,
     "metadata": {},
     "output_type": "execute_result"
    }
   ],
   "source": [
    "dtm_new.shape"
   ]
  },
  {
   "cell_type": "markdown",
   "metadata": {},
   "source": [
    "**Term Frequence-Inverse Document Frequency**"
   ]
  },
  {
   "cell_type": "code",
   "execution_count": 72,
   "metadata": {},
   "outputs": [],
   "source": [
    "from sklearn.feature_extraction.text import TfidfVectorizer\n",
    "\n",
    "model_tfidf = TfidfVectorizer()\n",
    "\n",
    "dtm_tfidf = pd.DataFrame(model_tfidf.fit_transform(docs_clean).toarray(),\n",
    "                      columns = model.get_feature_names())"
   ]
  },
  {
   "cell_type": "code",
   "execution_count": 73,
   "metadata": {},
   "outputs": [
    {
     "data": {
      "text/plain": [
       "app             230.159049\n",
       "hotstartweet    183.286564\n",
       "hotstar         173.169018\n",
       "good            168.675049\n",
       "watch           130.602828\n",
       "dtype: float64"
      ]
     },
     "execution_count": 73,
     "metadata": {},
     "output_type": "execute_result"
    }
   ],
   "source": [
    "dtm_tfidf.sum().sort_values(ascending=False).head()\n",
    "#dtm.sum().sort_values(ascending=False).head()"
   ]
  },
  {
   "cell_type": "code",
   "execution_count": null,
   "metadata": {},
   "outputs": [],
   "source": []
  }
 ],
 "metadata": {
  "kernelspec": {
   "display_name": "Python 3",
   "language": "python",
   "name": "python3"
  },
  "language_info": {
   "codemirror_mode": {
    "name": "ipython",
    "version": 3
   },
   "file_extension": ".py",
   "mimetype": "text/x-python",
   "name": "python",
   "nbconvert_exporter": "python",
   "pygments_lexer": "ipython3",
   "version": "3.6.6"
  }
 },
 "nbformat": 4,
 "nbformat_minor": 2
}
