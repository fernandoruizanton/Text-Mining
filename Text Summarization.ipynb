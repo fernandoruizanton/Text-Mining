{
 "cells": [
  {
   "cell_type": "code",
   "execution_count": 1,
   "metadata": {},
   "outputs": [],
   "source": [
    "import pandas as pd"
   ]
  },
  {
   "cell_type": "code",
   "execution_count": 3,
   "metadata": {},
   "outputs": [],
   "source": [
    "amazon = pd.read_csv('https://raw.githubusercontent.com/skathirmani/datasets/master/amazon_reviews.csv')"
   ]
  },
  {
   "cell_type": "markdown",
   "metadata": {},
   "source": [
    "**Lexical Ranking Steps** <br>\n",
    "\n",
    "    - Create Graph for sentences\n",
    "    - Convert Sentences into vectors\n",
    "    - Identify Cosine similarity for sentence pairs\n",
    "    - The sentence pairs with high similarity will determine the thickness of edges in the graph\n",
    "    - Fix a threshold of cosine similarity ( take a call ), say 0.5 . \n",
    "    - Remove edges with cosine similarity less than your threshold 0.5. \n",
    "    - For every sentence ,calculate degree of connectivity. Sentence with is most similar to other will have the most number of connections. This could mean, all the other sentences are just elaborating on the main sentence. "
   ]
  },
  {
   "cell_type": "code",
   "execution_count": 6,
   "metadata": {},
   "outputs": [],
   "source": [
    "from sumy.summarizers.lex_rank import LexRankSummarizer\n",
    "from sumy.nlp.stemmers import Stemmer\n",
    "from sumy.parsers.plaintext import PlaintextParser\n",
    "from sumy.nlp.tokenizers import Tokenizer"
   ]
  },
  {
   "cell_type": "code",
   "execution_count": 7,
   "metadata": {},
   "outputs": [
    {
     "data": {
      "text/plain": [
       "(<Sentence: We got this GPS for my husband who is an (OTR) over the road trucker.>,\n",
       " <Sentence: Very Impressed with the shipping time, it arrived a few days earlier than expected...  within a week of use however it started freezing up... could of just been a glitch in that unit.>,\n",
       " <Sentence: Worked great when it worked!>)"
      ]
     },
     "execution_count": 7,
     "metadata": {},
     "output_type": "execute_result"
    }
   ],
   "source": [
    "parser = PlaintextParser.from_string(amazon['reviewText'][0], Tokenizer('english'))\n",
    "summarizer = LexRankSummarizer()\n",
    "sentences = summarizer(parser.document,3)\n",
    "sentences"
   ]
  },
  {
   "cell_type": "code",
   "execution_count": null,
   "metadata": {},
   "outputs": [],
   "source": []
  }
 ],
 "metadata": {
  "kernelspec": {
   "display_name": "Python 3",
   "language": "python",
   "name": "python3"
  },
  "language_info": {
   "codemirror_mode": {
    "name": "ipython",
    "version": 3
   },
   "file_extension": ".py",
   "mimetype": "text/x-python",
   "name": "python",
   "nbconvert_exporter": "python",
   "pygments_lexer": "ipython3",
   "version": "3.6.6"
  }
 },
 "nbformat": 4,
 "nbformat_minor": 2
}
