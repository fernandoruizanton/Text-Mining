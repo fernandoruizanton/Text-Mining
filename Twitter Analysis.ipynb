{
 "cells": [
  {
   "cell_type": "code",
   "execution_count": 1,
   "metadata": {},
   "outputs": [],
   "source": [
    "import pandas as pd\n",
    "from nltk.tokenize import word_tokenize\n",
    "import numpy as np\n",
    "import matplotlib.pyplot as plt\n",
    "%matplotlib inline\n",
    "import nltk"
   ]
  },
  {
   "cell_type": "code",
   "execution_count": 2,
   "metadata": {},
   "outputs": [],
   "source": [
    "data = pd.read_csv('https://raw.githubusercontent.com/skathirmani/datasets/master/narendramodi_tweets.csv')"
   ]
  },
  {
   "cell_type": "markdown",
   "metadata": {},
   "source": [
    "**Most Frequent HashTags** & **Most Frequent Users**"
   ]
  },
  {
   "cell_type": "code",
   "execution_count": 18,
   "metadata": {},
   "outputs": [],
   "source": [
    "docs = data['text']\n",
    "docs = docs.str.lower()\n",
    "docs = docs.str.replace('[^a-z#@ ]','')\n",
    "docs = docs.str.split(' ')\n",
    "words_rows = docs.tolist()\n",
    "words_all = [] # huge list - 59k [] \n",
    "docs_clean = [] # stemmed and cleaned sentences joined with space.\n",
    "words_rows_clean = [] # list of lists [ [],[],[] ... ] \n",
    "hashtags = []\n",
    "users = []\n",
    "\n",
    "for row in words_rows:\n",
    "    for i in row:\n",
    "        if i.startswith('#'):\n",
    "            hashtags.append(i)\n",
    "            \n",
    "for row in words_rows:\n",
    "    for i in row:\n",
    "        if i.startswith('@'):\n",
    "            users.append(i)"
   ]
  },
  {
   "cell_type": "code",
   "execution_count": 26,
   "metadata": {},
   "outputs": [
    {
     "name": "stdout",
     "output_type": "stream",
     "text": [
      "#sandeshsoldiers      108\n",
      "#mannkibaat            91\n",
      "#tirangayatra          84\n",
      "#yogaday               53\n",
      "#transformingindia     52\n",
      "#idy                   44\n",
      "#mycleanindia          24\n",
      "#rio                   19\n",
      "#                      14\n",
      "#digidhanmela          10\n",
      "dtype: int64\n"
     ]
    }
   ],
   "source": [
    "top_hashtags = pd.Series(hashtags).value_counts().head(10).sort_values(ascending=False)\n",
    "print(top_hashtags)"
   ]
  },
  {
   "cell_type": "code",
   "execution_count": 27,
   "metadata": {},
   "outputs": [
    {
     "name": "stdout",
     "output_type": "stream",
     "text": [
      "@pmoindia           145\n",
      "@narendramodi       123\n",
      "@meaindia            26\n",
      "@rashtrapatibhvn     24\n",
      "@bjpindia            20\n",
      "@sureshpprabhu       15\n",
      "@brics               14\n",
      "@un                  12\n",
      "@sushmaswaraj        12\n",
      "@maithripalas        12\n",
      "dtype: int64\n"
     ]
    }
   ],
   "source": [
    "top_users = pd.Series(users).value_counts().head(10).sort_values(ascending=False)\n",
    "print(top_users)"
   ]
  },
  {
   "cell_type": "markdown",
   "metadata": {},
   "source": [
    "**Date Time Analysis**"
   ]
  },
  {
   "cell_type": "code",
   "execution_count": 28,
   "metadata": {},
   "outputs": [
    {
     "data": {
      "text/plain": [
       "0   2017-01-31 11:00:07\n",
       "1   2017-01-31 10:59:12\n",
       "2   2017-01-31 10:52:33\n",
       "3   2017-01-31 10:52:22\n",
       "4   2017-01-31 10:52:16\n",
       "Name: date, dtype: datetime64[ns]"
      ]
     },
     "execution_count": 28,
     "metadata": {},
     "output_type": "execute_result"
    }
   ],
   "source": [
    "data['date'] = pd.to_datetime(data['created_at'])\n",
    "data['date'].head()"
   ]
  },
  {
   "cell_type": "code",
   "execution_count": 31,
   "metadata": {},
   "outputs": [],
   "source": [
    "data['month'] = data['date'].dt.month\n",
    "data['day'] = data['date'].dt.day\n",
    "data['year'] = data['date'].dt.year\n",
    "data['month_name'] = data['date'].dt.strftime('%b')\n",
    "data['weekday'] = data['date'].dt.strftime('%A')"
   ]
  },
  {
   "cell_type": "code",
   "execution_count": 33,
   "metadata": {},
   "outputs": [
    {
     "data": {
      "text/plain": [
       "Jun    413\n",
       "Oct    393\n",
       "Aug    383\n",
       "May    307\n",
       "Jul    303\n",
       "Name: month_name, dtype: int64"
      ]
     },
     "execution_count": 33,
     "metadata": {},
     "output_type": "execute_result"
    }
   ],
   "source": [
    "data['month_name'].value_counts().head()"
   ]
  },
  {
   "cell_type": "code",
   "execution_count": 64,
   "metadata": {},
   "outputs": [
    {
     "data": {
      "text/plain": [
       "0    3112\n",
       "1     108\n",
       "Name: sandeshsoldiers, dtype: int64"
      ]
     },
     "execution_count": 64,
     "metadata": {},
     "output_type": "execute_result"
    }
   ],
   "source": [
    "data['text'] = data['text'].str.lower().str.replace('[^a-z#@ ]','')\n",
    "data['sandeshsoldiers'] = data['text'].str.lower().apply(lambda x: 1 if '#sandeshsoldiers' in x.split(' ') else 0)\n",
    "data['sandeshsoldiers'].value_counts()"
   ]
  },
  {
   "cell_type": "code",
   "execution_count": 67,
   "metadata": {},
   "outputs": [],
   "source": [
    "#data[['date','sandeshsoldiers']].head()"
   ]
  },
  {
   "cell_type": "code",
   "execution_count": 66,
   "metadata": {},
   "outputs": [
    {
     "data": {
      "text/plain": [
       "month\n",
       "1       0\n",
       "3       0\n",
       "4       0\n",
       "5       0\n",
       "6       0\n",
       "7       0\n",
       "8       0\n",
       "9       0\n",
       "10    107\n",
       "11      1\n",
       "12      0\n",
       "Name: sandeshsoldiers, dtype: int64"
      ]
     },
     "execution_count": 66,
     "metadata": {},
     "output_type": "execute_result"
    }
   ],
   "source": [
    "data.groupby('month')['sandeshsoldiers'].sum()"
   ]
  },
  {
   "cell_type": "markdown",
   "metadata": {},
   "source": [
    "**Resampling instead of group by** <br>\n",
    "\n",
    "   If any month is missing , it will still show up in your analysis as 0, If we use groupby the missing months don't show up."
   ]
  },
  {
   "cell_type": "markdown",
   "metadata": {},
   "source": [
    "Condition - works only on datetime type"
   ]
  },
  {
   "cell_type": "code",
   "execution_count": 69,
   "metadata": {},
   "outputs": [
    {
     "data": {
      "text/plain": [
       "<matplotlib.axes._subplots.AxesSubplot at 0x2d77abf16d8>"
      ]
     },
     "execution_count": 69,
     "metadata": {},
     "output_type": "execute_result"
    },
    {
     "data": {
      "image/png": "[encoded data removed]",
      "text/plain": [
       "<Figure size 432x288 with 1 Axes>"
      ]
     },
     "metadata": {
      "needs_background": "light"
     },
     "output_type": "display_data"
    }
   ],
   "source": [
    "data.index = data['date']\n",
    "data.resample('1M')['sandeshsoldiers'].sum().plot.line()"
   ]
  },
  {
   "cell_type": "code",
   "execution_count": null,
   "metadata": {},
   "outputs": [],
   "source": []
  }
 ],
 "metadata": {
  "kernelspec": {
   "display_name": "Python 3",
   "language": "python",
   "name": "python3"
  },
  "language_info": {
   "codemirror_mode": {
    "name": "ipython",
    "version": 3
   },
   "file_extension": ".py",
   "mimetype": "text/x-python",
   "name": "python",
   "nbconvert_exporter": "python",
   "pygments_lexer": "ipython3",
   "version": "3.6.6"
  }
 },
 "nbformat": 4,
 "nbformat_minor": 2
}
