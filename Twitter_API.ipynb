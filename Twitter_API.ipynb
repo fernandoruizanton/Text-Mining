{
 "cells": [
  {
   "cell_type": "markdown",
   "metadata": {},
   "source": [
    "# Twitter API \n",
    "    - Rest API - gives results when queried\n",
    "    - Streaming API - keeps monitoring for a #tag continuously , stores it whenever some uses it"
   ]
  },
  {
   "cell_type": "code",
   "execution_count": 22,
   "metadata": {},
   "outputs": [
    {
     "data": {
      "text/plain": [
       "'3.6.0'"
      ]
     },
     "execution_count": 22,
     "metadata": {},
     "output_type": "execute_result"
    }
   ],
   "source": [
    "import tweepy\n",
    "import pandas as pd\n",
    "import numpy as np\n",
    "tweepy.__version__"
   ]
  },
  {
   "cell_type": "code",
   "execution_count": 2,
   "metadata": {},
   "outputs": [],
   "source": [
    "api_key = 'QSV92u3PlXAUyzCBUfVwwLccp'\n",
    "api_secret = 'vxQT5rKUmpycC52eFwitpIh2Ij2hjuw8ZxhnlsbCYhEVv7zqIh'\n",
    "access_token = '1059829816306921472-ADVpqol7U3AkaJKHVt5bH2VqMnBAQK'\n",
    "access_token_secret = 'fRfkm7u2uzXvSjPZsuseXGj7nJYgjl5eOROnmWZqOOJVE'"
   ]
  },
  {
   "cell_type": "code",
   "execution_count": 4,
   "metadata": {},
   "outputs": [],
   "source": [
    "api = tweepy.OAuthHandler(api_key,api_secret)\n",
    "api.set_access_token(access_token,access_token_secret)\n",
    "api_auth = tweepy.API(api)"
   ]
  },
  {
   "cell_type": "code",
   "execution_count": 5,
   "metadata": {},
   "outputs": [],
   "source": [
    "flipkart_tweets = api_auth.search('#flipkart')"
   ]
  },
  {
   "cell_type": "code",
   "execution_count": 12,
   "metadata": {},
   "outputs": [
    {
     "data": {
      "text/plain": [
       "'Tech news 7th November\\n#AMD #news #tech #PUBG #SuicideSquad #Microsoft #Xiaomi #GooglePixel3 #Facebook #Flipkart… https://t.co/BKAssX7Ptd'"
      ]
     },
     "execution_count": 12,
     "metadata": {},
     "output_type": "execute_result"
    }
   ],
   "source": [
    "flipkart_tweets[0].text"
   ]
  },
  {
   "cell_type": "code",
   "execution_count": 13,
   "metadata": {},
   "outputs": [
    {
     "data": {
      "text/plain": [
       "datetime.datetime(2018, 11, 7, 16, 57, 39)"
      ]
     },
     "execution_count": 13,
     "metadata": {},
     "output_type": "execute_result"
    }
   ],
   "source": [
    "flipkart_tweets[0].created_at"
   ]
  },
  {
   "cell_type": "code",
   "execution_count": 25,
   "metadata": {},
   "outputs": [],
   "source": [
    "flipkart_tweets = api_auth.search('#flipkart',count=100)\n",
    "flipkart_df = pd.DataFrame(columns = ['text','created_at','name'])\n",
    "for tweet in flipkart_tweets:\n",
    "    curr_row = {'text':tweet.text,\n",
    "                'created_at':tweet.created_at,\n",
    "                'name':tweet.user.name}\n",
    "    flipkart_df = flipkart_df.append(curr_row,ignore_index=True)"
   ]
  },
  {
   "cell_type": "code",
   "execution_count": 27,
   "metadata": {},
   "outputs": [
    {
     "data": {
      "text/html": [
       "<div>\n",
       "<style scoped>\n",
       "    .dataframe tbody tr th:only-of-type {\n",
       "        vertical-align: middle;\n",
       "    }\n",
       "\n",
       "    .dataframe tbody tr th {\n",
       "        vertical-align: top;\n",
       "    }\n",
       "\n",
       "    .dataframe thead th {\n",
       "        text-align: right;\n",
       "    }\n",
       "</style>\n",
       "<table border=\"1\" class=\"dataframe\">\n",
       "  <thead>\n",
       "    <tr style=\"text-align: right;\">\n",
       "      <th></th>\n",
       "      <th>text</th>\n",
       "      <th>created_at</th>\n",
       "      <th>name</th>\n",
       "    </tr>\n",
       "  </thead>\n",
       "  <tbody>\n",
       "    <tr>\n",
       "      <th>0</th>\n",
       "      <td>Tech news 7th November\\n#AMD #news #tech #PUBG...</td>\n",
       "      <td>2018-11-07 16:57:39</td>\n",
       "      <td>The Krishh Show ▶️</td>\n",
       "    </tr>\n",
       "    <tr>\n",
       "      <th>1</th>\n",
       "      <td>Let your kid have a hip-hop time around with #...</td>\n",
       "      <td>2018-11-07 16:48:02</td>\n",
       "      <td>aquawhite</td>\n",
       "    </tr>\n",
       "    <tr>\n",
       "      <th>2</th>\n",
       "      <td>RT @Techglares: Flipkart Festive Dhamaka : \\n\\...</td>\n",
       "      <td>2018-11-07 16:39:19</td>\n",
       "      <td>SYE|RAA ramu.karnati</td>\n",
       "    </tr>\n",
       "    <tr>\n",
       "      <th>3</th>\n",
       "      <td>My Two Orders Already Came At Kolkata Nearly 1...</td>\n",
       "      <td>2018-11-07 15:54:50</td>\n",
       "      <td>DJ SOHAM</td>\n",
       "    </tr>\n",
       "    <tr>\n",
       "      <th>4</th>\n",
       "      <td>RT @rajeevkr957: @AnandSagar1306 @Flipkart @Ph...</td>\n",
       "      <td>2018-11-07 15:27:08</td>\n",
       "      <td>Anand Sagar</td>\n",
       "    </tr>\n",
       "  </tbody>\n",
       "</table>\n",
       "</div>"
      ],
      "text/plain": [
       "                                                text          created_at  \\\n",
       "0  Tech news 7th November\\n#AMD #news #tech #PUBG... 2018-11-07 16:57:39   \n",
       "1  Let your kid have a hip-hop time around with #... 2018-11-07 16:48:02   \n",
       "2  RT @Techglares: Flipkart Festive Dhamaka : \\n\\... 2018-11-07 16:39:19   \n",
       "3  My Two Orders Already Came At Kolkata Nearly 1... 2018-11-07 15:54:50   \n",
       "4  RT @rajeevkr957: @AnandSagar1306 @Flipkart @Ph... 2018-11-07 15:27:08   \n",
       "\n",
       "                   name  \n",
       "0    The Krishh Show ▶️  \n",
       "1             aquawhite  \n",
       "2  SYE|RAA ramu.karnati  \n",
       "3              DJ SOHAM  \n",
       "4           Anand Sagar  "
      ]
     },
     "execution_count": 27,
     "metadata": {},
     "output_type": "execute_result"
    }
   ],
   "source": [
    "flipkart_df.head()"
   ]
  },
  {
   "cell_type": "code",
   "execution_count": 28,
   "metadata": {},
   "outputs": [],
   "source": [
    "hotstar_tweets = api_auth.search('#hotstar',count=500)\n",
    "hotstar_df = pd.DataFrame(columns = ['text','created_at','name'])\n",
    "for tweet in hotstar_tweets:\n",
    "    curr_row = {'text':tweet.text,\n",
    "                'created_at':tweet.created_at,\n",
    "                'name':tweet.user.name}\n",
    "    hotstar_df = hotstar_df.append(curr_row,ignore_index=True)"
   ]
  },
  {
   "cell_type": "code",
   "execution_count": 30,
   "metadata": {},
   "outputs": [
    {
     "data": {
      "text/plain": [
       "(100, 3)"
      ]
     },
     "execution_count": 30,
     "metadata": {},
     "output_type": "execute_result"
    }
   ],
   "source": [
    "hotstar_df.shape"
   ]
  },
  {
   "cell_type": "code",
   "execution_count": null,
   "metadata": {},
   "outputs": [],
   "source": []
  }
 ],
 "metadata": {
  "kernelspec": {
   "display_name": "Python 3",
   "language": "python",
   "name": "python3"
  },
  "language_info": {
   "codemirror_mode": {
    "name": "ipython",
    "version": 3
   },
   "file_extension": ".py",
   "mimetype": "text/x-python",
   "name": "python",
   "nbconvert_exporter": "python",
   "pygments_lexer": "ipython3",
   "version": "3.6.6"
  }
 },
 "nbformat": 4,
 "nbformat_minor": 2
}
